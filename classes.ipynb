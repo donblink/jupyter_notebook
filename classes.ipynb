{
 "cells": [
  {
   "cell_type": "code",
   "execution_count": 1,
   "metadata": {
    "dotnet_interactive": {
     "language": "csharp"
    },
    "polyglot_notebook": {
     "kernelName": "csharp"
    }
   },
   "outputs": [
    {
     "data": {
      "text/html": [
       "<details open=\"open\" class=\"dni-treeview\"><summary><span class=\"dni-code-hint\"><code>Submission#2+Student</code></span></summary><div><table><thead><tr></tr></thead><tbody><tr><td>FirstName</td><td><div class=\"dni-plaintext\"><pre>Mary</pre></div></td></tr><tr><td>LastName</td><td><div class=\"dni-plaintext\"><pre>Contrary</pre></div></td></tr><tr><td>Age</td><td><div class=\"dni-plaintext\"><pre>25</pre></div></td></tr><tr><td>IsEnrolled</td><td><div class=\"dni-plaintext\"><pre>True</pre></div></td></tr></tbody></table></div></details><style>\r\n",
       ".dni-code-hint {\r\n",
       "    font-style: italic;\r\n",
       "    overflow: hidden;\r\n",
       "    white-space: nowrap;\r\n",
       "}\r\n",
       ".dni-treeview {\r\n",
       "    white-space: nowrap;\r\n",
       "}\r\n",
       ".dni-treeview td {\r\n",
       "    vertical-align: top;\r\n",
       "    text-align: start;\r\n",
       "}\r\n",
       "details.dni-treeview {\r\n",
       "    padding-left: 1em;\r\n",
       "}\r\n",
       "table td {\r\n",
       "    text-align: start;\r\n",
       "}\r\n",
       "table tr { \r\n",
       "    vertical-align: top; \r\n",
       "    margin: 0em 0px;\r\n",
       "}\r\n",
       "table tr td pre \r\n",
       "{ \r\n",
       "    vertical-align: top !important; \r\n",
       "    margin: 0em 0px !important;\r\n",
       "} \r\n",
       "table th {\r\n",
       "    text-align: start;\r\n",
       "}\r\n",
       "</style>"
      ]
     },
     "metadata": {},
     "output_type": "display_data"
    },
    {
     "data": {
      "text/html": [
       "<details open=\"open\" class=\"dni-treeview\"><summary><span class=\"dni-code-hint\"><code>Submission#2+Student</code></span></summary><div><table><thead><tr></tr></thead><tbody><tr><td>FirstName</td><td><div class=\"dni-plaintext\"><pre>Jeff</pre></div></td></tr><tr><td>LastName</td><td><div class=\"dni-plaintext\"><pre>Fritz</pre></div></td></tr><tr><td>Age</td><td><div class=\"dni-plaintext\"><pre>20</pre></div></td></tr><tr><td>IsEnrolled</td><td><div class=\"dni-plaintext\"><pre>False</pre></div></td></tr></tbody></table></div></details><style>\r\n",
       ".dni-code-hint {\r\n",
       "    font-style: italic;\r\n",
       "    overflow: hidden;\r\n",
       "    white-space: nowrap;\r\n",
       "}\r\n",
       ".dni-treeview {\r\n",
       "    white-space: nowrap;\r\n",
       "}\r\n",
       ".dni-treeview td {\r\n",
       "    vertical-align: top;\r\n",
       "    text-align: start;\r\n",
       "}\r\n",
       "details.dni-treeview {\r\n",
       "    padding-left: 1em;\r\n",
       "}\r\n",
       "table td {\r\n",
       "    text-align: start;\r\n",
       "}\r\n",
       "table tr { \r\n",
       "    vertical-align: top; \r\n",
       "    margin: 0em 0px;\r\n",
       "}\r\n",
       "table tr td pre \r\n",
       "{ \r\n",
       "    vertical-align: top !important; \r\n",
       "    margin: 0em 0px !important;\r\n",
       "} \r\n",
       "table th {\r\n",
       "    text-align: start;\r\n",
       "}\r\n",
       "</style>"
      ]
     },
     "metadata": {},
     "output_type": "display_data"
    }
   ],
   "source": [
    "internal class Student \n",
    "{\n",
    "\n",
    "    /* A publicly accessible constructor that doesn't do anything.  \n",
    "    \n",
    "    This public constructor is created by default by the compiler, and does not need to\n",
    "    explicitly be added if no action methods take place during construction\n",
    "    */\n",
    "    public Student() \n",
    "    { \n",
    "    }\n",
    "\n",
    "    // Simple publicly accessible properties that define the FirstName, LastName, and Age\n",
    "    // of our Student\n",
    "    public string FirstName { get; set; }\n",
    "    public string LastName { get; set; }\n",
    "    public byte Age { get; set; }\n",
    "    public bool IsEnrolled { get; set; }\n",
    "    \n",
    "}\n",
    "\n",
    "// Create a new Student object and assign it to the variable name `s`\n",
    "var s = new Student();\n",
    "s.FirstName = \"Mary\";\n",
    "s.LastName = \"Contrary\";\n",
    "s.Age = 25;\n",
    "s.IsEnrolled = true;\n",
    "\n",
    "display(s);   // This is NOT a C# or .NET function, but rather a Jupyter notebook feature to display \n",
    "              //the content inside parenthesis ( )\n",
    "    \n",
    "var fritz = new Student() {\n",
    "    FirstName = \"Jeff\",\n",
    "    LastName = \"Fritz\",\n",
    "    Age = 20,\n",
    "    IsEnrolled = false\n",
    "};\n",
    "display(fritz);"
   ]
  }
 ],
 "metadata": {
  "kernelspec": {
   "display_name": ".NET (C#)",
   "language": "C#",
   "name": ".net-csharp"
  },
  "language_info": {
   "name": "polyglot-notebook"
  },
  "polyglot_notebook": {
   "kernelInfo": {
    "defaultKernelName": "csharp",
    "items": [
     {
      "aliases": [],
      "name": "csharp"
     }
    ]
   }
  }
 },
 "nbformat": 4,
 "nbformat_minor": 2
}
